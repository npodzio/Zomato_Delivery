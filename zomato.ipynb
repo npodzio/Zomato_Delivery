{
 "cells": [
  {
   "cell_type": "code",
   "execution_count": null,
   "metadata": {},
   "outputs": [],
   "source": [
    "import pandas as pd\n",
    "from pathlib import Path\n"
   ]
  },
  {
   "cell_type": "code",
   "execution_count": null,
   "metadata": {},
   "outputs": [],
   "source": [
    "\n",
    "FILE_PATH = Path(\"/Users/nataliapodziolkina/Documents/final_project/Zomato Dataset.csv\")\n",
    "OUTPUT_DIR = Path(\"output\")\n",
    "OUTPUT_DIR.mkdir(exist_ok=True)\n",
    "\n",
    "RATING_BINS = [0, 3, 4, 5]\n",
    "RATING_LABELS = ['low (0-3)', 'medium (3-4)', 'high (4-5)']\n",
    "\n",
    "df = pd.read_csv(FILE_PATH)\n",
    "\n",
    "df.head()\n",
    "\n"
   ]
  },
  {
   "cell_type": "code",
   "execution_count": null,
   "metadata": {},
   "outputs": [],
   "source": [
    "# Date cleaning \n",
    "\n",
    "df[\"Order_Date\"] = (\n",
    "    df[\"Order_Date\"].astype(str).str.strip().str.replace(r\"[-./]\", \"-\", regex=True)\n",
    ")\n",
    "df[\"Order_Date\"] = pd.to_datetime(df[\"Order_Date\"], errors=\"coerce\", dayfirst=True)\n",
    "\n"
   ]
  },
  {
   "cell_type": "code",
   "execution_count": null,
   "metadata": {},
   "outputs": [],
   "source": [
    "# Hours\n",
    "df[\"Time_Orderd\"] = pd.to_datetime(df[\"Time_Orderd\"], format=\"%H:%M\", errors=\"coerce\").dt.time\n",
    "df[\"Time_Order_picked\"] = pd.to_datetime(df[\"Time_Order_picked\"], format=\"%H:%M\", errors=\"coerce\").dt.time\n"
   ]
  },
  {
   "cell_type": "code",
   "execution_count": null,
   "metadata": {},
   "outputs": [],
   "source": [
    "# Drop missing daata\n",
    "df_clean = df.dropna()\n",
    "\n",
    "# delete duplicates \n",
    "df_clean = df_clean.drop_duplicates(subset=[\"ID\"], keep=\"first\")\n"
   ]
  },
  {
   "cell_type": "code",
   "execution_count": null,
   "metadata": {},
   "outputs": [],
   "source": [
    "OUTPUT_CSV = OUTPUT_DIR / \"zomato_clean_dropna.csv\"\n",
    "df_clean.to_csv(OUTPUT_CSV, index=False)\n",
    "\n",
    "print(\"✅ Cleaned dataset saved:\", OUTPUT_CSV)\n",
    "print(\"Кількість рядків після очищення:\", len(df_clean))\n",
    "\n"
   ]
  },
  {
   "cell_type": "code",
   "execution_count": null,
   "metadata": {},
   "outputs": [],
   "source": [
    "# Orders per City\n",
    "\n",
    "orders_city = df_clean.groupby(\"City\").agg(\n",
    "    total_orders=(\"ID\", \"count\"),\n",
    "    avg_time=(\"Time_taken (min)\", \"mean\")\n",
    ").round(2).reset_index()\n",
    "\n",
    "orders_city.to_csv(OUTPUT_DIR / \"orders_city.csv\", index=False)\n"
   ]
  },
  {
   "cell_type": "code",
   "execution_count": null,
   "metadata": {},
   "outputs": [],
   "source": [
    "#  Orders per Traffic\n",
    "orders_traffic = df_clean.groupby(\"Road_traffic_density\").agg(\n",
    "    total_orders=(\"ID\", \"count\"),\n",
    "    avg_time=(\"Time_taken (min)\", \"mean\")\n",
    ").round(2).reset_index()\n",
    "\n",
    "orders_traffic.to_csv(OUTPUT_DIR / \"orders_traffic.csv\", index=False)\n",
    "\n",
    "\n"
   ]
  },
  {
   "cell_type": "code",
   "execution_count": null,
   "metadata": {},
   "outputs": [],
   "source": [
    "#  Orders per Weather\n",
    "orders_weather = df_clean.groupby(\"Weather_conditions\").agg(\n",
    "    total_orders=(\"ID\", \"count\"),\n",
    "    avg_time=(\"Time_taken (min)\", \"mean\")\n",
    ").round(2).reset_index()\n",
    "\n",
    "orders_weather.to_csv(OUTPUT_DIR / \"orders_weather.csv\", index=False)\n"
   ]
  },
  {
   "cell_type": "code",
   "execution_count": null,
   "metadata": {},
   "outputs": [],
   "source": [
    "#  Festival impact\n",
    "orders_festival = df_clean.groupby(\"Festival\").agg(\n",
    "    total_orders=(\"ID\", \"count\"),\n",
    "    avg_time=(\"Time_taken (min)\", \"mean\")\n",
    ").round(2).reset_index()\n",
    "\n",
    "orders_festival.to_csv(OUTPUT_DIR / \"orders_festival.csv\", index=False)\n",
    "\n"
   ]
  },
  {
   "cell_type": "code",
   "execution_count": null,
   "metadata": {},
   "outputs": [],
   "source": [
    "#  Type of the order\n",
    "orders_type = df_clean.groupby(\"Type_of_order\").agg(\n",
    "    total_orders=(\"ID\", \"count\"),\n",
    "    avg_time=(\"Time_taken (min)\", \"mean\")\n",
    ").round(2).reset_index()\n",
    "\n",
    "orders_type.round(2).to_csv(OUTPUT_DIR / \"orders_type.csv\", index=False)\n",
    "\n",
    "\n"
   ]
  },
  {
   "cell_type": "code",
   "execution_count": null,
   "metadata": {},
   "outputs": [],
   "source": [
    "\n",
    "#  Courier productivity\n",
    "courier_load = df_clean.groupby(\"Delivery_person_ID\").agg(\n",
    "    total_orders=(\"ID\", \"count\"),\n",
    "    avg_rating=(\"Delivery_person_Ratings\", \"mean\")\n",
    ").round(2).reset_index()\n",
    "\n",
    "courier_load.to_csv(OUTPUT_DIR / \"courier_load.csv\", index=False)\n",
    "\n",
    "\n"
   ]
  },
  {
   "cell_type": "code",
   "execution_count": null,
   "metadata": {},
   "outputs": [],
   "source": [
    "# Trend by date\n",
    "df_clean[\"Order_Date\"] = pd.to_datetime(df_clean[\"Order_Date\"])\n",
    "orders_trend = df_clean.groupby(\"Order_Date\").agg(\n",
    "    total_orders=(\"ID\", \"count\"),\n",
    "    avg_time=(\"Time_taken (min)\", \"mean\")\n",
    ").round(2).reset_index()\n"
   ]
  },
  {
   "cell_type": "code",
   "execution_count": null,
   "metadata": {},
   "outputs": [],
   "source": [
    "# Rating vs delivery time \n",
    "ratings_time = df_clean.groupby(\n",
    "    pd.cut(df_clean[\"Delivery_person_Ratings\"], bins=RATING_BINS, labels=RATING_LABELS),\n",
    "    observed=True,\n",
    ").agg(\n",
    "    avg_time=(\"Time_taken (min)\", \"mean\"),\n",
    "    total_orders=(\"ID\", \"count\")\n",
    ").round(2).reset_index()\n",
    "\n",
    "ratings_time.to_csv(OUTPUT_DIR / \"ratings_time.csv\", index=False)\n",
    "\n"
   ]
  }
 ],
 "metadata": {
  "kernelspec": {
   "display_name": "Python 3",
   "language": "python",
   "name": "python3"
  },
  "language_info": {
   "codemirror_mode": {
    "name": "ipython",
    "version": 3
   },
   "file_extension": ".py",
   "mimetype": "text/x-python",
   "name": "python",
   "nbconvert_exporter": "python",
   "pygments_lexer": "ipython3",
   "version": "3.13.3"
  }
 },
 "nbformat": 4,
 "nbformat_minor": 2
}
